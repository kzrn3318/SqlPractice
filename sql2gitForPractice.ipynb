{
 "cells": [
  {
   "cell_type": "code",
   "execution_count": 1,
   "metadata": {},
   "outputs": [],
   "source": [
    "%create TEST1.db"
   ]
  },
  {
   "cell_type": "code",
   "execution_count": 2,
   "metadata": {},
   "outputs": [],
   "source": [
    "create table meibo\n",
    "  (id int primary key, name varchar(20))"
   ]
  },
  {
   "cell_type": "code",
   "execution_count": 3,
   "metadata": {},
   "outputs": [
    {
     "data": {
      "text/html": [
       "<table>\n",
       "<tr>\n",
       "<th>id</th>\n",
       "<th>name</th>\n",
       "</tr>\n",
       "</table>"
      ],
      "text/plain": [
       "+----+------+\n",
       "| id | name |\n",
       "+----+------+"
      ]
     },
     "execution_count": 3,
     "metadata": {},
     "output_type": "execute_result"
    }
   ],
   "source": [
    "select * from meibo;"
   ]
  },
  {
   "cell_type": "code",
   "execution_count": 4,
   "metadata": {},
   "outputs": [],
   "source": [
    "insert into meibo (id, name) values (1, \"Yamada\");"
   ]
  },
  {
   "cell_type": "code",
   "execution_count": 5,
   "metadata": {},
   "outputs": [],
   "source": [
    "insert into meibo (id, name) values (2, \"Tanaka\");"
   ]
  },
  {
   "cell_type": "code",
   "execution_count": 6,
   "metadata": {},
   "outputs": [],
   "source": [
    "insert into meibo (id, name) values (3, \"Sato\");"
   ]
  },
  {
   "cell_type": "code",
   "execution_count": 7,
   "metadata": {},
   "outputs": [
    {
     "data": {
      "text/html": [
       "<table>\n",
       "<tr>\n",
       "<th>id</th>\n",
       "<th>name</th>\n",
       "</tr>\n",
       "<tr>\n",
       "<td>1</td>\n",
       "<td>Yamada</td>\n",
       "</tr>\n",
       "<tr>\n",
       "<td>2</td>\n",
       "<td>Tanaka</td>\n",
       "</tr>\n",
       "<tr>\n",
       "<td>3</td>\n",
       "<td>Sato</td>\n",
       "</tr>\n",
       "</table>"
      ],
      "text/plain": [
       "+----+--------+\n",
       "| id | name   |\n",
       "+----+--------+\n",
       "| 1  | Yamada |\n",
       "+----+--------+\n",
       "| 2  | Tanaka |\n",
       "+----+--------+\n",
       "| 3  | Sato   |\n",
       "+----+--------+"
      ]
     },
     "execution_count": 7,
     "metadata": {},
     "output_type": "execute_result"
    }
   ],
   "source": [
    "select * from meibo"
   ]
  },
  {
   "cell_type": "code",
   "execution_count": 8,
   "metadata": {},
   "outputs": [
    {
     "ename": "Error",
     "evalue": "UNIQUE constraint failed: meibo.id",
     "output_type": "error",
     "traceback": [
      "Error: UNIQUE constraint failed: meibo.id"
     ]
    }
   ],
   "source": [
    "insert into meibo (id, name) values (1, \"Yamada\");"
   ]
  },
  {
   "cell_type": "code",
   "execution_count": 9,
   "metadata": {},
   "outputs": [
    {
     "data": {
      "text/html": [
       "<table>\n",
       "<tr>\n",
       "<th>name</th>\n",
       "</tr>\n",
       "<tr>\n",
       "<td>meibo</td>\n",
       "</tr>\n",
       "</table>"
      ],
      "text/plain": [
       "+-------+\n",
       "| name  |\n",
       "+-------+\n",
       "| meibo |\n",
       "+-------+"
      ]
     },
     "execution_count": 9,
     "metadata": {},
     "output_type": "execute_result"
    }
   ],
   "source": [
    "select name from sqlite_master where type='table';"
   ]
  },
  {
   "cell_type": "code",
   "execution_count": 14,
   "metadata": {},
   "outputs": [
    {
     "data": {
      "text/html": [
       "<table>\n",
       "<tr>\n",
       "<th>id</th>\n",
       "<th>name</th>\n",
       "</tr>\n",
       "<tr>\n",
       "<td>2</td>\n",
       "<td>Tanaka</td>\n",
       "</tr>\n",
       "</table>"
      ],
      "text/plain": [
       "+----+--------+\n",
       "| id | name   |\n",
       "+----+--------+\n",
       "| 2  | Tanaka |\n",
       "+----+--------+"
      ]
     },
     "execution_count": 14,
     "metadata": {},
     "output_type": "execute_result"
    }
   ],
   "source": [
    "select * from meibo where id=2;"
   ]
  },
  {
   "cell_type": "code",
   "execution_count": 15,
   "metadata": {},
   "outputs": [
    {
     "data": {
      "text/html": [
       "<table>\n",
       "<tr>\n",
       "<th>id</th>\n",
       "<th>name</th>\n",
       "</tr>\n",
       "<tr>\n",
       "<td>1</td>\n",
       "<td>Yamada</td>\n",
       "</tr>\n",
       "<tr>\n",
       "<td>2</td>\n",
       "<td>Tanaka</td>\n",
       "</tr>\n",
       "</table>"
      ],
      "text/plain": [
       "+----+--------+\n",
       "| id | name   |\n",
       "+----+--------+\n",
       "| 1  | Yamada |\n",
       "+----+--------+\n",
       "| 2  | Tanaka |\n",
       "+----+--------+"
      ]
     },
     "execution_count": 15,
     "metadata": {},
     "output_type": "execute_result"
    }
   ],
   "source": [
    "select * from meibo where id in (1,2);"
   ]
  },
  {
   "cell_type": "code",
   "execution_count": 16,
   "metadata": {},
   "outputs": [
    {
     "data": {
      "text/html": [
       "<table>\n",
       "<tr>\n",
       "<th>id</th>\n",
       "<th>name</th>\n",
       "</tr>\n",
       "<tr>\n",
       "<td>3</td>\n",
       "<td>Sato</td>\n",
       "</tr>\n",
       "</table>"
      ],
      "text/plain": [
       "+----+------+\n",
       "| id | name |\n",
       "+----+------+\n",
       "| 3  | Sato |\n",
       "+----+------+"
      ]
     },
     "execution_count": 16,
     "metadata": {},
     "output_type": "execute_result"
    }
   ],
   "source": [
    "select * from meibo where name like 'S%';"
   ]
  },
  {
   "cell_type": "code",
   "execution_count": 17,
   "metadata": {},
   "outputs": [],
   "source": [
    "update meibo\n",
    " set name = \"Suzuki\"\n",
    " where id=3;"
   ]
  },
  {
   "cell_type": "code",
   "execution_count": 18,
   "metadata": {},
   "outputs": [
    {
     "data": {
      "text/html": [
       "<table>\n",
       "<tr>\n",
       "<th>id</th>\n",
       "<th>name</th>\n",
       "</tr>\n",
       "<tr>\n",
       "<td>1</td>\n",
       "<td>Yamada</td>\n",
       "</tr>\n",
       "<tr>\n",
       "<td>2</td>\n",
       "<td>Tanaka</td>\n",
       "</tr>\n",
       "<tr>\n",
       "<td>3</td>\n",
       "<td>Suzuki</td>\n",
       "</tr>\n",
       "</table>"
      ],
      "text/plain": [
       "+----+--------+\n",
       "| id | name   |\n",
       "+----+--------+\n",
       "| 1  | Yamada |\n",
       "+----+--------+\n",
       "| 2  | Tanaka |\n",
       "+----+--------+\n",
       "| 3  | Suzuki |\n",
       "+----+--------+"
      ]
     },
     "execution_count": 18,
     "metadata": {},
     "output_type": "execute_result"
    }
   ],
   "source": [
    "select * from meibo;"
   ]
  },
  {
   "cell_type": "code",
   "execution_count": 19,
   "metadata": {},
   "outputs": [],
   "source": [
    "insert into meibo (id, name) values (4, \"Dummy\");"
   ]
  },
  {
   "cell_type": "code",
   "execution_count": 20,
   "metadata": {},
   "outputs": [
    {
     "data": {
      "text/html": [
       "<table>\n",
       "<tr>\n",
       "<th>id</th>\n",
       "<th>name</th>\n",
       "</tr>\n",
       "<tr>\n",
       "<td>1</td>\n",
       "<td>Yamada</td>\n",
       "</tr>\n",
       "<tr>\n",
       "<td>2</td>\n",
       "<td>Tanaka</td>\n",
       "</tr>\n",
       "<tr>\n",
       "<td>3</td>\n",
       "<td>Suzuki</td>\n",
       "</tr>\n",
       "<tr>\n",
       "<td>4</td>\n",
       "<td>Dummy</td>\n",
       "</tr>\n",
       "</table>"
      ],
      "text/plain": [
       "+----+--------+\n",
       "| id | name   |\n",
       "+----+--------+\n",
       "| 1  | Yamada |\n",
       "+----+--------+\n",
       "| 2  | Tanaka |\n",
       "+----+--------+\n",
       "| 3  | Suzuki |\n",
       "+----+--------+\n",
       "| 4  | Dummy  |\n",
       "+----+--------+"
      ]
     },
     "execution_count": 20,
     "metadata": {},
     "output_type": "execute_result"
    }
   ],
   "source": [
    "select * from meibo;"
   ]
  },
  {
   "cell_type": "code",
   "execution_count": 21,
   "metadata": {},
   "outputs": [],
   "source": [
    "delete from meibo\n",
    "where id = 4;"
   ]
  },
  {
   "cell_type": "code",
   "execution_count": 22,
   "metadata": {},
   "outputs": [
    {
     "data": {
      "text/html": [
       "<table>\n",
       "<tr>\n",
       "<th>id</th>\n",
       "<th>name</th>\n",
       "</tr>\n",
       "<tr>\n",
       "<td>1</td>\n",
       "<td>Yamada</td>\n",
       "</tr>\n",
       "<tr>\n",
       "<td>2</td>\n",
       "<td>Tanaka</td>\n",
       "</tr>\n",
       "<tr>\n",
       "<td>3</td>\n",
       "<td>Suzuki</td>\n",
       "</tr>\n",
       "</table>"
      ],
      "text/plain": [
       "+----+--------+\n",
       "| id | name   |\n",
       "+----+--------+\n",
       "| 1  | Yamada |\n",
       "+----+--------+\n",
       "| 2  | Tanaka |\n",
       "+----+--------+\n",
       "| 3  | Suzuki |\n",
       "+----+--------+"
      ]
     },
     "execution_count": 22,
     "metadata": {},
     "output_type": "execute_result"
    }
   ],
   "source": [
    "select * from meibo;"
   ]
  },
  {
   "cell_type": "code",
   "execution_count": 23,
   "metadata": {},
   "outputs": [],
   "source": [
    "alter table meibo add class int;"
   ]
  },
  {
   "cell_type": "code",
   "execution_count": 24,
   "metadata": {},
   "outputs": [],
   "source": [
    "alter table meibo add age int;"
   ]
  },
  {
   "cell_type": "code",
   "execution_count": 25,
   "metadata": {},
   "outputs": [
    {
     "data": {
      "text/html": [
       "<table>\n",
       "<tr>\n",
       "<th>id</th>\n",
       "<th>name</th>\n",
       "<th>class</th>\n",
       "<th>age</th>\n",
       "</tr>\n",
       "<tr>\n",
       "<td>1</td>\n",
       "<td>Yamada</td>\n",
       "<td></td>\n",
       "<td></td>\n",
       "</tr>\n",
       "<tr>\n",
       "<td>2</td>\n",
       "<td>Tanaka</td>\n",
       "<td></td>\n",
       "<td></td>\n",
       "</tr>\n",
       "<tr>\n",
       "<td>3</td>\n",
       "<td>Suzuki</td>\n",
       "<td></td>\n",
       "<td></td>\n",
       "</tr>\n",
       "</table>"
      ],
      "text/plain": [
       "+----+--------+-------+-----+\n",
       "| id | name   | class | age |\n",
       "+----+--------+-------+-----+\n",
       "| 1  | Yamada |       |     |\n",
       "+----+--------+-------+-----+\n",
       "| 2  | Tanaka |       |     |\n",
       "+----+--------+-------+-----+\n",
       "| 3  | Suzuki |       |     |\n",
       "+----+--------+-------+-----+"
      ]
     },
     "execution_count": 25,
     "metadata": {},
     "output_type": "execute_result"
    }
   ],
   "source": [
    "select * from meibo;"
   ]
  },
  {
   "cell_type": "code",
   "execution_count": 26,
   "metadata": {},
   "outputs": [],
   "source": [
    "update meibo\n",
    " set class=1,age=13\n",
    " where id=3;"
   ]
  },
  {
   "cell_type": "code",
   "execution_count": 27,
   "metadata": {},
   "outputs": [
    {
     "data": {
      "text/html": [
       "<table>\n",
       "<tr>\n",
       "<th>id</th>\n",
       "<th>name</th>\n",
       "<th>class</th>\n",
       "<th>age</th>\n",
       "</tr>\n",
       "<tr>\n",
       "<td>1</td>\n",
       "<td>Yamada</td>\n",
       "<td></td>\n",
       "<td></td>\n",
       "</tr>\n",
       "<tr>\n",
       "<td>2</td>\n",
       "<td>Tanaka</td>\n",
       "<td></td>\n",
       "<td></td>\n",
       "</tr>\n",
       "<tr>\n",
       "<td>3</td>\n",
       "<td>Suzuki</td>\n",
       "<td>1</td>\n",
       "<td>13</td>\n",
       "</tr>\n",
       "</table>"
      ],
      "text/plain": [
       "+----+--------+-------+-----+\n",
       "| id | name   | class | age |\n",
       "+----+--------+-------+-----+\n",
       "| 1  | Yamada |       |     |\n",
       "+----+--------+-------+-----+\n",
       "| 2  | Tanaka |       |     |\n",
       "+----+--------+-------+-----+\n",
       "| 3  | Suzuki | 1     | 13  |\n",
       "+----+--------+-------+-----+"
      ]
     },
     "execution_count": 27,
     "metadata": {},
     "output_type": "execute_result"
    }
   ],
   "source": [
    "select * from meibo;"
   ]
  },
  {
   "cell_type": "code",
   "execution_count": 28,
   "metadata": {},
   "outputs": [],
   "source": [
    "update meibo\n",
    " set class=1,age=14\n",
    " where id=1;"
   ]
  },
  {
   "cell_type": "code",
   "execution_count": 29,
   "metadata": {},
   "outputs": [],
   "source": [
    " update meibo\n",
    " set class=2,age=13\n",
    " where id=2;"
   ]
  },
  {
   "cell_type": "code",
   "execution_count": 30,
   "metadata": {},
   "outputs": [
    {
     "data": {
      "text/html": [
       "<table>\n",
       "<tr>\n",
       "<th>id</th>\n",
       "<th>name</th>\n",
       "<th>class</th>\n",
       "<th>age</th>\n",
       "</tr>\n",
       "<tr>\n",
       "<td>1</td>\n",
       "<td>Yamada</td>\n",
       "<td>1</td>\n",
       "<td>14</td>\n",
       "</tr>\n",
       "<tr>\n",
       "<td>2</td>\n",
       "<td>Tanaka</td>\n",
       "<td>2</td>\n",
       "<td>13</td>\n",
       "</tr>\n",
       "<tr>\n",
       "<td>3</td>\n",
       "<td>Suzuki</td>\n",
       "<td>1</td>\n",
       "<td>13</td>\n",
       "</tr>\n",
       "</table>"
      ],
      "text/plain": [
       "+----+--------+-------+-----+\n",
       "| id | name   | class | age |\n",
       "+----+--------+-------+-----+\n",
       "| 1  | Yamada | 1     | 14  |\n",
       "+----+--------+-------+-----+\n",
       "| 2  | Tanaka | 2     | 13  |\n",
       "+----+--------+-------+-----+\n",
       "| 3  | Suzuki | 1     | 13  |\n",
       "+----+--------+-------+-----+"
      ]
     },
     "execution_count": 30,
     "metadata": {},
     "output_type": "execute_result"
    }
   ],
   "source": [
    "select * from meibo;"
   ]
  },
  {
   "cell_type": "code",
   "execution_count": 31,
   "metadata": {},
   "outputs": [],
   "source": [
    "insert into meibo (id,name,class,age) \n",
    " values (4,\"Kato\",2,15),(5,\"Ito\",3,12),(6,\"Takeuchi\",2,16),(7,\"Kimura\",3,11),(8,\"Sato\",1,14);"
   ]
  },
  {
   "cell_type": "code",
   "execution_count": 32,
   "metadata": {},
   "outputs": [
    {
     "data": {
      "text/html": [
       "<table>\n",
       "<tr>\n",
       "<th>id</th>\n",
       "<th>name</th>\n",
       "<th>class</th>\n",
       "<th>age</th>\n",
       "</tr>\n",
       "<tr>\n",
       "<td>1</td>\n",
       "<td>Yamada</td>\n",
       "<td>1</td>\n",
       "<td>14</td>\n",
       "</tr>\n",
       "<tr>\n",
       "<td>2</td>\n",
       "<td>Tanaka</td>\n",
       "<td>2</td>\n",
       "<td>13</td>\n",
       "</tr>\n",
       "<tr>\n",
       "<td>3</td>\n",
       "<td>Suzuki</td>\n",
       "<td>1</td>\n",
       "<td>13</td>\n",
       "</tr>\n",
       "<tr>\n",
       "<td>4</td>\n",
       "<td>Kato</td>\n",
       "<td>2</td>\n",
       "<td>15</td>\n",
       "</tr>\n",
       "<tr>\n",
       "<td>5</td>\n",
       "<td>Ito</td>\n",
       "<td>3</td>\n",
       "<td>12</td>\n",
       "</tr>\n",
       "<tr>\n",
       "<td>6</td>\n",
       "<td>Takeuchi</td>\n",
       "<td>2</td>\n",
       "<td>16</td>\n",
       "</tr>\n",
       "<tr>\n",
       "<td>7</td>\n",
       "<td>Kimura</td>\n",
       "<td>3</td>\n",
       "<td>11</td>\n",
       "</tr>\n",
       "<tr>\n",
       "<td>8</td>\n",
       "<td>Sato</td>\n",
       "<td>1</td>\n",
       "<td>14</td>\n",
       "</tr>\n",
       "</table>"
      ],
      "text/plain": [
       "+----+----------+-------+-----+\n",
       "| id | name     | class | age |\n",
       "+----+----------+-------+-----+\n",
       "| 1  | Yamada   | 1     | 14  |\n",
       "+----+----------+-------+-----+\n",
       "| 2  | Tanaka   | 2     | 13  |\n",
       "+----+----------+-------+-----+\n",
       "| 3  | Suzuki   | 1     | 13  |\n",
       "+----+----------+-------+-----+\n",
       "| 4  | Kato     | 2     | 15  |\n",
       "+----+----------+-------+-----+\n",
       "| 5  | Ito      | 3     | 12  |\n",
       "+----+----------+-------+-----+\n",
       "| 6  | Takeuchi | 2     | 16  |\n",
       "+----+----------+-------+-----+\n",
       "| 7  | Kimura   | 3     | 11  |\n",
       "+----+----------+-------+-----+\n",
       "| 8  | Sato     | 1     | 14  |\n",
       "+----+----------+-------+-----+"
      ]
     },
     "execution_count": 32,
     "metadata": {},
     "output_type": "execute_result"
    }
   ],
   "source": [
    "select * from meibo;"
   ]
  },
  {
   "cell_type": "code",
   "execution_count": 44,
   "metadata": {
    "scrolled": true
   },
   "outputs": [
    {
     "data": {
      "text/html": [
       "<table>\n",
       "<tr>\n",
       "<th>count(*)</th>\n",
       "</tr>\n",
       "<tr>\n",
       "<td>8</td>\n",
       "</tr>\n",
       "</table>"
      ],
      "text/plain": [
       "+----------+\n",
       "| count(*) |\n",
       "+----------+\n",
       "| 8        |\n",
       "+----------+"
      ]
     },
     "execution_count": 44,
     "metadata": {},
     "output_type": "execute_result"
    }
   ],
   "source": [
    "select count(*) from meibo;"
   ]
  },
  {
   "cell_type": "code",
   "execution_count": 45,
   "metadata": {},
   "outputs": [
    {
     "data": {
      "text/html": [
       "<table>\n",
       "<tr>\n",
       "<th>cnt</th>\n",
       "</tr>\n",
       "<tr>\n",
       "<td>8</td>\n",
       "</tr>\n",
       "</table>"
      ],
      "text/plain": [
       "+-----+\n",
       "| cnt |\n",
       "+-----+\n",
       "| 8   |\n",
       "+-----+"
      ]
     },
     "execution_count": 45,
     "metadata": {},
     "output_type": "execute_result"
    }
   ],
   "source": [
    "select count(*) as cnt from meibo;"
   ]
  },
  {
   "cell_type": "code",
   "execution_count": 46,
   "metadata": {
    "scrolled": true
   },
   "outputs": [
    {
     "data": {
      "text/html": [
       "<table>\n",
       "<tr>\n",
       "<th>classCnt</th>\n",
       "</tr>\n",
       "<tr>\n",
       "<td>3</td>\n",
       "</tr>\n",
       "</table>"
      ],
      "text/plain": [
       "+----------+\n",
       "| classCnt |\n",
       "+----------+\n",
       "| 3        |\n",
       "+----------+"
      ]
     },
     "execution_count": 46,
     "metadata": {},
     "output_type": "execute_result"
    }
   ],
   "source": [
    "select count(distinct class) as classCnt from meibo;"
   ]
  },
  {
   "cell_type": "code",
   "execution_count": 47,
   "metadata": {},
   "outputs": [
    {
     "data": {
      "text/html": [
       "<table>\n",
       "<tr>\n",
       "<th>avgAge</th>\n",
       "</tr>\n",
       "<tr>\n",
       "<td>13.5</td>\n",
       "</tr>\n",
       "</table>"
      ],
      "text/plain": [
       "+--------+\n",
       "| avgAge |\n",
       "+--------+\n",
       "| 13.5   |\n",
       "+--------+"
      ]
     },
     "execution_count": 47,
     "metadata": {},
     "output_type": "execute_result"
    }
   ],
   "source": [
    "select avg(age) as avgAge from meibo;"
   ]
  },
  {
   "cell_type": "code",
   "execution_count": 48,
   "metadata": {},
   "outputs": [
    {
     "data": {
      "text/html": [
       "<table>\n",
       "<tr>\n",
       "<th>avgAge</th>\n",
       "</tr>\n",
       "<tr>\n",
       "<td>13</td>\n",
       "</tr>\n",
       "</table>"
      ],
      "text/plain": [
       "+--------+\n",
       "| avgAge |\n",
       "+--------+\n",
       "| 13     |\n",
       "+--------+"
      ]
     },
     "execution_count": 48,
     "metadata": {},
     "output_type": "execute_result"
    }
   ],
   "source": [
    "select sum(age) / count(*) as avgAge from meibo;"
   ]
  },
  {
   "cell_type": "code",
   "execution_count": 49,
   "metadata": {},
   "outputs": [
    {
     "data": {
      "text/html": [
       "<table>\n",
       "<tr>\n",
       "<th>minAge</th>\n",
       "<th>maxAge</th>\n",
       "</tr>\n",
       "<tr>\n",
       "<td>11</td>\n",
       "<td>16</td>\n",
       "</tr>\n",
       "</table>"
      ],
      "text/plain": [
       "+--------+--------+\n",
       "| minAge | maxAge |\n",
       "+--------+--------+\n",
       "| 11     | 16     |\n",
       "+--------+--------+"
      ]
     },
     "execution_count": 49,
     "metadata": {},
     "output_type": "execute_result"
    }
   ],
   "source": [
    "select min(age) as minAge, max(age) as maxAge from meibo;"
   ]
  },
  {
   "cell_type": "code",
   "execution_count": 50,
   "metadata": {
    "scrolled": true
   },
   "outputs": [
    {
     "data": {
      "text/html": [
       "<table>\n",
       "<tr>\n",
       "<th>id</th>\n",
       "<th>name</th>\n",
       "<th>class</th>\n",
       "<th>age</th>\n",
       "<th>height</th>\n",
       "</tr>\n",
       "<tr>\n",
       "<td>8</td>\n",
       "<td>Sato</td>\n",
       "<td>1</td>\n",
       "<td>14</td>\n",
       "<td>160</td>\n",
       "</tr>\n",
       "<tr>\n",
       "<td>7</td>\n",
       "<td>Kimura</td>\n",
       "<td>3</td>\n",
       "<td>11</td>\n",
       "<td>160</td>\n",
       "</tr>\n",
       "<tr>\n",
       "<td>6</td>\n",
       "<td>Takeuchi</td>\n",
       "<td>2</td>\n",
       "<td>16</td>\n",
       "<td>155</td>\n",
       "</tr>\n",
       "<tr>\n",
       "<td>5</td>\n",
       "<td>Ito</td>\n",
       "<td>3</td>\n",
       "<td>12</td>\n",
       "<td>155</td>\n",
       "</tr>\n",
       "<tr>\n",
       "<td>4</td>\n",
       "<td>Kato</td>\n",
       "<td>2</td>\n",
       "<td>15</td>\n",
       "<td>150</td>\n",
       "</tr>\n",
       "<tr>\n",
       "<td>3</td>\n",
       "<td>Suzuki</td>\n",
       "<td>1</td>\n",
       "<td>13</td>\n",
       "<td>150</td>\n",
       "</tr>\n",
       "<tr>\n",
       "<td>2</td>\n",
       "<td>Tanaka</td>\n",
       "<td>2</td>\n",
       "<td>13</td>\n",
       "<td>150</td>\n",
       "</tr>\n",
       "<tr>\n",
       "<td>1</td>\n",
       "<td>Yamada</td>\n",
       "<td>1</td>\n",
       "<td>14</td>\n",
       "<td>150</td>\n",
       "</tr>\n",
       "</table>"
      ],
      "text/plain": [
       "+----+----------+-------+-----+--------+\n",
       "| id | name     | class | age | height |\n",
       "+----+----------+-------+-----+--------+\n",
       "| 8  | Sato     | 1     | 14  | 160    |\n",
       "+----+----------+-------+-----+--------+\n",
       "| 7  | Kimura   | 3     | 11  | 160    |\n",
       "+----+----------+-------+-----+--------+\n",
       "| 6  | Takeuchi | 2     | 16  | 155    |\n",
       "+----+----------+-------+-----+--------+\n",
       "| 5  | Ito      | 3     | 12  | 155    |\n",
       "+----+----------+-------+-----+--------+\n",
       "| 4  | Kato     | 2     | 15  | 150    |\n",
       "+----+----------+-------+-----+--------+\n",
       "| 3  | Suzuki   | 1     | 13  | 150    |\n",
       "+----+----------+-------+-----+--------+\n",
       "| 2  | Tanaka   | 2     | 13  | 150    |\n",
       "+----+----------+-------+-----+--------+\n",
       "| 1  | Yamada   | 1     | 14  | 150    |\n",
       "+----+----------+-------+-----+--------+"
      ]
     },
     "execution_count": 50,
     "metadata": {},
     "output_type": "execute_result"
    }
   ],
   "source": [
    "select * from meibo order by id desc;"
   ]
  },
  {
   "cell_type": "code",
   "execution_count": 51,
   "metadata": {},
   "outputs": [
    {
     "data": {
      "text/html": [
       "<table>\n",
       "<tr>\n",
       "<th>id</th>\n",
       "<th>name</th>\n",
       "<th>class</th>\n",
       "<th>age</th>\n",
       "<th>height</th>\n",
       "</tr>\n",
       "<tr>\n",
       "<td>7</td>\n",
       "<td>Kimura</td>\n",
       "<td>3</td>\n",
       "<td>11</td>\n",
       "<td>160</td>\n",
       "</tr>\n",
       "<tr>\n",
       "<td>5</td>\n",
       "<td>Ito</td>\n",
       "<td>3</td>\n",
       "<td>12</td>\n",
       "<td>155</td>\n",
       "</tr>\n",
       "<tr>\n",
       "<td>2</td>\n",
       "<td>Tanaka</td>\n",
       "<td>2</td>\n",
       "<td>13</td>\n",
       "<td>150</td>\n",
       "</tr>\n",
       "<tr>\n",
       "<td>3</td>\n",
       "<td>Suzuki</td>\n",
       "<td>1</td>\n",
       "<td>13</td>\n",
       "<td>150</td>\n",
       "</tr>\n",
       "<tr>\n",
       "<td>1</td>\n",
       "<td>Yamada</td>\n",
       "<td>1</td>\n",
       "<td>14</td>\n",
       "<td>150</td>\n",
       "</tr>\n",
       "<tr>\n",
       "<td>8</td>\n",
       "<td>Sato</td>\n",
       "<td>1</td>\n",
       "<td>14</td>\n",
       "<td>160</td>\n",
       "</tr>\n",
       "<tr>\n",
       "<td>4</td>\n",
       "<td>Kato</td>\n",
       "<td>2</td>\n",
       "<td>15</td>\n",
       "<td>150</td>\n",
       "</tr>\n",
       "<tr>\n",
       "<td>6</td>\n",
       "<td>Takeuchi</td>\n",
       "<td>2</td>\n",
       "<td>16</td>\n",
       "<td>155</td>\n",
       "</tr>\n",
       "</table>"
      ],
      "text/plain": [
       "+----+----------+-------+-----+--------+\n",
       "| id | name     | class | age | height |\n",
       "+----+----------+-------+-----+--------+\n",
       "| 7  | Kimura   | 3     | 11  | 160    |\n",
       "+----+----------+-------+-----+--------+\n",
       "| 5  | Ito      | 3     | 12  | 155    |\n",
       "+----+----------+-------+-----+--------+\n",
       "| 2  | Tanaka   | 2     | 13  | 150    |\n",
       "+----+----------+-------+-----+--------+\n",
       "| 3  | Suzuki   | 1     | 13  | 150    |\n",
       "+----+----------+-------+-----+--------+\n",
       "| 1  | Yamada   | 1     | 14  | 150    |\n",
       "+----+----------+-------+-----+--------+\n",
       "| 8  | Sato     | 1     | 14  | 160    |\n",
       "+----+----------+-------+-----+--------+\n",
       "| 4  | Kato     | 2     | 15  | 150    |\n",
       "+----+----------+-------+-----+--------+\n",
       "| 6  | Takeuchi | 2     | 16  | 155    |\n",
       "+----+----------+-------+-----+--------+"
      ]
     },
     "execution_count": 51,
     "metadata": {},
     "output_type": "execute_result"
    }
   ],
   "source": [
    "select * from meibo order by age;"
   ]
  },
  {
   "cell_type": "code",
   "execution_count": 52,
   "metadata": {},
   "outputs": [
    {
     "data": {
      "text/html": [
       "<table>\n",
       "<tr>\n",
       "<th>id</th>\n",
       "<th>name</th>\n",
       "<th>class</th>\n",
       "<th>age</th>\n",
       "<th>height</th>\n",
       "</tr>\n",
       "<tr>\n",
       "<td>3</td>\n",
       "<td>Suzuki</td>\n",
       "<td>1</td>\n",
       "<td>13</td>\n",
       "<td>150</td>\n",
       "</tr>\n",
       "<tr>\n",
       "<td>1</td>\n",
       "<td>Yamada</td>\n",
       "<td>1</td>\n",
       "<td>14</td>\n",
       "<td>150</td>\n",
       "</tr>\n",
       "<tr>\n",
       "<td>8</td>\n",
       "<td>Sato</td>\n",
       "<td>1</td>\n",
       "<td>14</td>\n",
       "<td>160</td>\n",
       "</tr>\n",
       "<tr>\n",
       "<td>2</td>\n",
       "<td>Tanaka</td>\n",
       "<td>2</td>\n",
       "<td>13</td>\n",
       "<td>150</td>\n",
       "</tr>\n",
       "<tr>\n",
       "<td>4</td>\n",
       "<td>Kato</td>\n",
       "<td>2</td>\n",
       "<td>15</td>\n",
       "<td>150</td>\n",
       "</tr>\n",
       "<tr>\n",
       "<td>6</td>\n",
       "<td>Takeuchi</td>\n",
       "<td>2</td>\n",
       "<td>16</td>\n",
       "<td>155</td>\n",
       "</tr>\n",
       "<tr>\n",
       "<td>7</td>\n",
       "<td>Kimura</td>\n",
       "<td>3</td>\n",
       "<td>11</td>\n",
       "<td>160</td>\n",
       "</tr>\n",
       "<tr>\n",
       "<td>5</td>\n",
       "<td>Ito</td>\n",
       "<td>3</td>\n",
       "<td>12</td>\n",
       "<td>155</td>\n",
       "</tr>\n",
       "</table>"
      ],
      "text/plain": [
       "+----+----------+-------+-----+--------+\n",
       "| id | name     | class | age | height |\n",
       "+----+----------+-------+-----+--------+\n",
       "| 3  | Suzuki   | 1     | 13  | 150    |\n",
       "+----+----------+-------+-----+--------+\n",
       "| 1  | Yamada   | 1     | 14  | 150    |\n",
       "+----+----------+-------+-----+--------+\n",
       "| 8  | Sato     | 1     | 14  | 160    |\n",
       "+----+----------+-------+-----+--------+\n",
       "| 2  | Tanaka   | 2     | 13  | 150    |\n",
       "+----+----------+-------+-----+--------+\n",
       "| 4  | Kato     | 2     | 15  | 150    |\n",
       "+----+----------+-------+-----+--------+\n",
       "| 6  | Takeuchi | 2     | 16  | 155    |\n",
       "+----+----------+-------+-----+--------+\n",
       "| 7  | Kimura   | 3     | 11  | 160    |\n",
       "+----+----------+-------+-----+--------+\n",
       "| 5  | Ito      | 3     | 12  | 155    |\n",
       "+----+----------+-------+-----+--------+"
      ]
     },
     "execution_count": 52,
     "metadata": {},
     "output_type": "execute_result"
    }
   ],
   "source": [
    "select * from meibo order by class,age;"
   ]
  },
  {
   "cell_type": "code",
   "execution_count": 53,
   "metadata": {},
   "outputs": [
    {
     "data": {
      "text/html": [
       "<table>\n",
       "<tr>\n",
       "<th>id</th>\n",
       "<th>name</th>\n",
       "<th>class</th>\n",
       "<th>age</th>\n",
       "<th>height</th>\n",
       "</tr>\n",
       "<tr>\n",
       "<td>1</td>\n",
       "<td>Yamada</td>\n",
       "<td>1</td>\n",
       "<td>14</td>\n",
       "<td>150</td>\n",
       "</tr>\n",
       "<tr>\n",
       "<td>2</td>\n",
       "<td>Tanaka</td>\n",
       "<td>2</td>\n",
       "<td>13</td>\n",
       "<td>150</td>\n",
       "</tr>\n",
       "<tr>\n",
       "<td>3</td>\n",
       "<td>Suzuki</td>\n",
       "<td>1</td>\n",
       "<td>13</td>\n",
       "<td>150</td>\n",
       "</tr>\n",
       "</table>"
      ],
      "text/plain": [
       "+----+--------+-------+-----+--------+\n",
       "| id | name   | class | age | height |\n",
       "+----+--------+-------+-----+--------+\n",
       "| 1  | Yamada | 1     | 14  | 150    |\n",
       "+----+--------+-------+-----+--------+\n",
       "| 2  | Tanaka | 2     | 13  | 150    |\n",
       "+----+--------+-------+-----+--------+\n",
       "| 3  | Suzuki | 1     | 13  | 150    |\n",
       "+----+--------+-------+-----+--------+"
      ]
     },
     "execution_count": 53,
     "metadata": {},
     "output_type": "execute_result"
    }
   ],
   "source": [
    "select * from meibo limit 3;"
   ]
  },
  {
   "cell_type": "code",
   "execution_count": 54,
   "metadata": {},
   "outputs": [
    {
     "data": {
      "text/html": [
       "<table>\n",
       "<tr>\n",
       "<th>id</th>\n",
       "<th>name</th>\n",
       "<th>class</th>\n",
       "<th>age</th>\n",
       "<th>height</th>\n",
       "</tr>\n",
       "<tr>\n",
       "<td>4</td>\n",
       "<td>Kato</td>\n",
       "<td>2</td>\n",
       "<td>15</td>\n",
       "<td>150</td>\n",
       "</tr>\n",
       "<tr>\n",
       "<td>6</td>\n",
       "<td>Takeuchi</td>\n",
       "<td>2</td>\n",
       "<td>16</td>\n",
       "<td>155</td>\n",
       "</tr>\n",
       "</table>"
      ],
      "text/plain": [
       "+----+----------+-------+-----+--------+\n",
       "| id | name     | class | age | height |\n",
       "+----+----------+-------+-----+--------+\n",
       "| 4  | Kato     | 2     | 15  | 150    |\n",
       "+----+----------+-------+-----+--------+\n",
       "| 6  | Takeuchi | 2     | 16  | 155    |\n",
       "+----+----------+-------+-----+--------+"
      ]
     },
     "execution_count": 54,
     "metadata": {},
     "output_type": "execute_result"
    }
   ],
   "source": [
    "select * from meibo where class=2 and age>=15;"
   ]
  },
  {
   "cell_type": "code",
   "execution_count": 55,
   "metadata": {},
   "outputs": [
    {
     "data": {
      "text/html": [
       "<table>\n",
       "<tr>\n",
       "<th>id</th>\n",
       "<th>name</th>\n",
       "<th>class</th>\n",
       "<th>age</th>\n",
       "<th>height</th>\n",
       "</tr>\n",
       "<tr>\n",
       "<td>1</td>\n",
       "<td>Yamada</td>\n",
       "<td>1</td>\n",
       "<td>14</td>\n",
       "<td>150</td>\n",
       "</tr>\n",
       "<tr>\n",
       "<td>3</td>\n",
       "<td>Suzuki</td>\n",
       "<td>1</td>\n",
       "<td>13</td>\n",
       "<td>150</td>\n",
       "</tr>\n",
       "<tr>\n",
       "<td>4</td>\n",
       "<td>Kato</td>\n",
       "<td>2</td>\n",
       "<td>15</td>\n",
       "<td>150</td>\n",
       "</tr>\n",
       "<tr>\n",
       "<td>6</td>\n",
       "<td>Takeuchi</td>\n",
       "<td>2</td>\n",
       "<td>16</td>\n",
       "<td>155</td>\n",
       "</tr>\n",
       "<tr>\n",
       "<td>8</td>\n",
       "<td>Sato</td>\n",
       "<td>1</td>\n",
       "<td>14</td>\n",
       "<td>160</td>\n",
       "</tr>\n",
       "</table>"
      ],
      "text/plain": [
       "+----+----------+-------+-----+--------+\n",
       "| id | name     | class | age | height |\n",
       "+----+----------+-------+-----+--------+\n",
       "| 1  | Yamada   | 1     | 14  | 150    |\n",
       "+----+----------+-------+-----+--------+\n",
       "| 3  | Suzuki   | 1     | 13  | 150    |\n",
       "+----+----------+-------+-----+--------+\n",
       "| 4  | Kato     | 2     | 15  | 150    |\n",
       "+----+----------+-------+-----+--------+\n",
       "| 6  | Takeuchi | 2     | 16  | 155    |\n",
       "+----+----------+-------+-----+--------+\n",
       "| 8  | Sato     | 1     | 14  | 160    |\n",
       "+----+----------+-------+-----+--------+"
      ]
     },
     "execution_count": 55,
     "metadata": {},
     "output_type": "execute_result"
    }
   ],
   "source": [
    "select * from meibo where class=1 or age>=15;"
   ]
  },
  {
   "cell_type": "code",
   "execution_count": 59,
   "metadata": {},
   "outputs": [
    {
     "data": {
      "text/html": [
       "<table>\n",
       "<tr>\n",
       "<th>class</th>\n",
       "<th>num</th>\n",
       "</tr>\n",
       "<tr>\n",
       "<td>1</td>\n",
       "<td>3</td>\n",
       "</tr>\n",
       "<tr>\n",
       "<td>2</td>\n",
       "<td>3</td>\n",
       "</tr>\n",
       "<tr>\n",
       "<td>3</td>\n",
       "<td>2</td>\n",
       "</tr>\n",
       "</table>"
      ],
      "text/plain": [
       "+-------+-----+\n",
       "| class | num |\n",
       "+-------+-----+\n",
       "| 1     | 3   |\n",
       "+-------+-----+\n",
       "| 2     | 3   |\n",
       "+-------+-----+\n",
       "| 3     | 2   |\n",
       "+-------+-----+"
      ]
     },
     "execution_count": 59,
     "metadata": {},
     "output_type": "execute_result"
    }
   ],
   "source": [
    "select class, count(*) as num from meibo group by class;"
   ]
  },
  {
   "cell_type": "code",
   "execution_count": 60,
   "metadata": {
    "scrolled": true
   },
   "outputs": [
    {
     "data": {
      "text/html": [
       "<table>\n",
       "<tr>\n",
       "<th>class</th>\n",
       "<th>num</th>\n",
       "<th>avgAge</th>\n",
       "</tr>\n",
       "<tr>\n",
       "<td>1</td>\n",
       "<td>3</td>\n",
       "<td>13.6666666666667</td>\n",
       "</tr>\n",
       "<tr>\n",
       "<td>2</td>\n",
       "<td>3</td>\n",
       "<td>14.6666666666667</td>\n",
       "</tr>\n",
       "<tr>\n",
       "<td>3</td>\n",
       "<td>2</td>\n",
       "<td>11.5</td>\n",
       "</tr>\n",
       "</table>"
      ],
      "text/plain": [
       "+-------+-----+------------------+\n",
       "| class | num | avgAge           |\n",
       "+-------+-----+------------------+\n",
       "| 1     | 3   | 13.6666666666667 |\n",
       "+-------+-----+------------------+\n",
       "| 2     | 3   | 14.6666666666667 |\n",
       "+-------+-----+------------------+\n",
       "| 3     | 2   | 11.5             |\n",
       "+-------+-----+------------------+"
      ]
     },
     "execution_count": 60,
     "metadata": {},
     "output_type": "execute_result"
    }
   ],
   "source": [
    "select class, count(*) as num, avg(age) as avgAge from meibo group by class;"
   ]
  },
  {
   "cell_type": "code",
   "execution_count": 61,
   "metadata": {},
   "outputs": [
    {
     "data": {
      "text/html": [
       "<table>\n",
       "<tr>\n",
       "<th>class</th>\n",
       "<th>avgAge</th>\n",
       "</tr>\n",
       "<tr>\n",
       "<td>1</td>\n",
       "<td>13.6666666666667</td>\n",
       "</tr>\n",
       "<tr>\n",
       "<td>2</td>\n",
       "<td>14.6666666666667</td>\n",
       "</tr>\n",
       "</table>"
      ],
      "text/plain": [
       "+-------+------------------+\n",
       "| class | avgAge           |\n",
       "+-------+------------------+\n",
       "| 1     | 13.6666666666667 |\n",
       "+-------+------------------+\n",
       "| 2     | 14.6666666666667 |\n",
       "+-------+------------------+"
      ]
     },
     "execution_count": 61,
     "metadata": {},
     "output_type": "execute_result"
    }
   ],
   "source": [
    "select class, avg(age) as avgAge from meibo group by class having avgAge>13;"
   ]
  },
  {
   "cell_type": "code",
   "execution_count": 62,
   "metadata": {},
   "outputs": [
    {
     "data": {
      "text/html": [
       "<table>\n",
       "<tr>\n",
       "<th>class</th>\n",
       "<th>avgAge</th>\n",
       "</tr>\n",
       "<tr>\n",
       "<td>1</td>\n",
       "<td>14.0</td>\n",
       "</tr>\n",
       "<tr>\n",
       "<td>2</td>\n",
       "<td>15.5</td>\n",
       "</tr>\n",
       "</table>"
      ],
      "text/plain": [
       "+-------+--------+\n",
       "| class | avgAge |\n",
       "+-------+--------+\n",
       "| 1     | 14.0   |\n",
       "+-------+--------+\n",
       "| 2     | 15.5   |\n",
       "+-------+--------+"
      ]
     },
     "execution_count": 62,
     "metadata": {},
     "output_type": "execute_result"
    }
   ],
   "source": [
    "select class, avg(age) as avgAge from meibo where age > 13 group by class;"
   ]
  },
  {
   "cell_type": "code",
   "execution_count": 63,
   "metadata": {},
   "outputs": [
    {
     "data": {
      "text/html": [
       "<table>\n",
       "<tr>\n",
       "<th>class</th>\n",
       "<th>age</th>\n",
       "<th>num</th>\n",
       "</tr>\n",
       "<tr>\n",
       "<td>1</td>\n",
       "<td>13</td>\n",
       "<td>1</td>\n",
       "</tr>\n",
       "<tr>\n",
       "<td>1</td>\n",
       "<td>14</td>\n",
       "<td>2</td>\n",
       "</tr>\n",
       "<tr>\n",
       "<td>2</td>\n",
       "<td>13</td>\n",
       "<td>1</td>\n",
       "</tr>\n",
       "<tr>\n",
       "<td>2</td>\n",
       "<td>15</td>\n",
       "<td>1</td>\n",
       "</tr>\n",
       "<tr>\n",
       "<td>2</td>\n",
       "<td>16</td>\n",
       "<td>1</td>\n",
       "</tr>\n",
       "<tr>\n",
       "<td>3</td>\n",
       "<td>11</td>\n",
       "<td>1</td>\n",
       "</tr>\n",
       "<tr>\n",
       "<td>3</td>\n",
       "<td>12</td>\n",
       "<td>1</td>\n",
       "</tr>\n",
       "</table>"
      ],
      "text/plain": [
       "+-------+-----+-----+\n",
       "| class | age | num |\n",
       "+-------+-----+-----+\n",
       "| 1     | 13  | 1   |\n",
       "+-------+-----+-----+\n",
       "| 1     | 14  | 2   |\n",
       "+-------+-----+-----+\n",
       "| 2     | 13  | 1   |\n",
       "+-------+-----+-----+\n",
       "| 2     | 15  | 1   |\n",
       "+-------+-----+-----+\n",
       "| 2     | 16  | 1   |\n",
       "+-------+-----+-----+\n",
       "| 3     | 11  | 1   |\n",
       "+-------+-----+-----+\n",
       "| 3     | 12  | 1   |\n",
       "+-------+-----+-----+"
      ]
     },
     "execution_count": 63,
     "metadata": {},
     "output_type": "execute_result"
    }
   ],
   "source": [
    "select class, age, count(*) as num from meibo group by class,age;"
   ]
  },
  {
   "cell_type": "code",
   "execution_count": 64,
   "metadata": {},
   "outputs": [
    {
     "data": {
      "text/html": [
       "<table>\n",
       "<tr>\n",
       "<th>class</th>\n",
       "<th>age</th>\n",
       "<th>num</th>\n",
       "</tr>\n",
       "<tr>\n",
       "<td>1</td>\n",
       "<td>13</td>\n",
       "<td>1</td>\n",
       "</tr>\n",
       "<tr>\n",
       "<td>1</td>\n",
       "<td>14</td>\n",
       "<td>2</td>\n",
       "</tr>\n",
       "<tr>\n",
       "<td>2</td>\n",
       "<td>13</td>\n",
       "<td>1</td>\n",
       "</tr>\n",
       "<tr>\n",
       "<td>2</td>\n",
       "<td>15</td>\n",
       "<td>1</td>\n",
       "</tr>\n",
       "<tr>\n",
       "<td>2</td>\n",
       "<td>16</td>\n",
       "<td>1</td>\n",
       "</tr>\n",
       "<tr>\n",
       "<td>3</td>\n",
       "<td>11</td>\n",
       "<td>1</td>\n",
       "</tr>\n",
       "<tr>\n",
       "<td>3</td>\n",
       "<td>12</td>\n",
       "<td>1</td>\n",
       "</tr>\n",
       "</table>"
      ],
      "text/plain": [
       "+-------+-----+-----+\n",
       "| class | age | num |\n",
       "+-------+-----+-----+\n",
       "| 1     | 13  | 1   |\n",
       "+-------+-----+-----+\n",
       "| 1     | 14  | 2   |\n",
       "+-------+-----+-----+\n",
       "| 2     | 13  | 1   |\n",
       "+-------+-----+-----+\n",
       "| 2     | 15  | 1   |\n",
       "+-------+-----+-----+\n",
       "| 2     | 16  | 1   |\n",
       "+-------+-----+-----+\n",
       "| 3     | 11  | 1   |\n",
       "+-------+-----+-----+\n",
       "| 3     | 12  | 1   |\n",
       "+-------+-----+-----+"
      ]
     },
     "execution_count": 64,
     "metadata": {},
     "output_type": "execute_result"
    }
   ],
   "source": [
    "select class, age, count(*) as num from meibo group by 1,2;"
   ]
  },
  {
   "cell_type": "code",
   "execution_count": 68,
   "metadata": {},
   "outputs": [],
   "source": [
    "/*前の練習問題で作成したテーブルは使わないので、一旦削除します*/\n",
    "drop table if exists meibo2;"
   ]
  },
  {
   "cell_type": "code",
   "execution_count": 69,
   "metadata": {
    "scrolled": true
   },
   "outputs": [],
   "source": [
    "/* class=100000は存在しないため、レコードは０*/\n",
    "create table meibo2 as select * from meibo where class=10000;"
   ]
  },
  {
   "cell_type": "code",
   "execution_count": 70,
   "metadata": {},
   "outputs": [
    {
     "data": {
      "text/html": [
       "<table>\n",
       "<tr>\n",
       "<th>id</th>\n",
       "<th>name</th>\n",
       "<th>class</th>\n",
       "<th>age</th>\n",
       "<th>height</th>\n",
       "</tr>\n",
       "</table>"
      ],
      "text/plain": [
       "+----+------+-------+-----+--------+\n",
       "| id | name | class | age | height |\n",
       "+----+------+-------+-----+--------+"
      ]
     },
     "execution_count": 70,
     "metadata": {},
     "output_type": "execute_result"
    }
   ],
   "source": [
    "/*データの確認*/\n",
    "select * from  meibo2;"
   ]
  },
  {
   "cell_type": "code",
   "execution_count": 71,
   "metadata": {},
   "outputs": [],
   "source": [
    "insert into meibo2 (id,name,class,age,height) \n",
    " values (1,\"Yamada\",1,14,150),\n",
    "        (9,\"Nagata\",4,11,160),\n",
    "        (10,\"Sugino\",2,13,150),\n",
    "        (11,\"Takayama\",1,14,155),\n",
    "        (12,\"John\",3,16,165);"
   ]
  },
  {
   "cell_type": "code",
   "execution_count": 72,
   "metadata": {},
   "outputs": [
    {
     "data": {
      "text/html": [
       "<table>\n",
       "<tr>\n",
       "<th>id</th>\n",
       "<th>name</th>\n",
       "<th>class</th>\n",
       "<th>age</th>\n",
       "<th>height</th>\n",
       "</tr>\n",
       "<tr>\n",
       "<td>1</td>\n",
       "<td>Yamada</td>\n",
       "<td>1</td>\n",
       "<td>14</td>\n",
       "<td>150</td>\n",
       "</tr>\n",
       "<tr>\n",
       "<td>9</td>\n",
       "<td>Nagata</td>\n",
       "<td>4</td>\n",
       "<td>11</td>\n",
       "<td>160</td>\n",
       "</tr>\n",
       "<tr>\n",
       "<td>10</td>\n",
       "<td>Sugino</td>\n",
       "<td>2</td>\n",
       "<td>13</td>\n",
       "<td>150</td>\n",
       "</tr>\n",
       "<tr>\n",
       "<td>11</td>\n",
       "<td>Takayama</td>\n",
       "<td>1</td>\n",
       "<td>14</td>\n",
       "<td>155</td>\n",
       "</tr>\n",
       "<tr>\n",
       "<td>12</td>\n",
       "<td>John</td>\n",
       "<td>3</td>\n",
       "<td>16</td>\n",
       "<td>165</td>\n",
       "</tr>\n",
       "</table>"
      ],
      "text/plain": [
       "+----+----------+-------+-----+--------+\n",
       "| id | name     | class | age | height |\n",
       "+----+----------+-------+-----+--------+\n",
       "| 1  | Yamada   | 1     | 14  | 150    |\n",
       "+----+----------+-------+-----+--------+\n",
       "| 9  | Nagata   | 4     | 11  | 160    |\n",
       "+----+----------+-------+-----+--------+\n",
       "| 10 | Sugino   | 2     | 13  | 150    |\n",
       "+----+----------+-------+-----+--------+\n",
       "| 11 | Takayama | 1     | 14  | 155    |\n",
       "+----+----------+-------+-----+--------+\n",
       "| 12 | John     | 3     | 16  | 165    |\n",
       "+----+----------+-------+-----+--------+"
      ]
     },
     "execution_count": 72,
     "metadata": {},
     "output_type": "execute_result"
    }
   ],
   "source": [
    "select * from  meibo2;"
   ]
  },
  {
   "cell_type": "code",
   "execution_count": 73,
   "metadata": {},
   "outputs": [
    {
     "data": {
      "text/html": [
       "<table>\n",
       "<tr>\n",
       "<th>id</th>\n",
       "<th>name</th>\n",
       "<th>class</th>\n",
       "<th>age</th>\n",
       "<th>height</th>\n",
       "</tr>\n",
       "<tr>\n",
       "<td>1</td>\n",
       "<td>Yamada</td>\n",
       "<td>1</td>\n",
       "<td>14</td>\n",
       "<td>150</td>\n",
       "</tr>\n",
       "<tr>\n",
       "<td>2</td>\n",
       "<td>Tanaka</td>\n",
       "<td>2</td>\n",
       "<td>13</td>\n",
       "<td>150</td>\n",
       "</tr>\n",
       "<tr>\n",
       "<td>3</td>\n",
       "<td>Suzuki</td>\n",
       "<td>1</td>\n",
       "<td>13</td>\n",
       "<td>150</td>\n",
       "</tr>\n",
       "<tr>\n",
       "<td>4</td>\n",
       "<td>Kato</td>\n",
       "<td>2</td>\n",
       "<td>15</td>\n",
       "<td>150</td>\n",
       "</tr>\n",
       "<tr>\n",
       "<td>5</td>\n",
       "<td>Ito</td>\n",
       "<td>3</td>\n",
       "<td>12</td>\n",
       "<td>155</td>\n",
       "</tr>\n",
       "<tr>\n",
       "<td>6</td>\n",
       "<td>Takeuchi</td>\n",
       "<td>2</td>\n",
       "<td>16</td>\n",
       "<td>155</td>\n",
       "</tr>\n",
       "<tr>\n",
       "<td>7</td>\n",
       "<td>Kimura</td>\n",
       "<td>3</td>\n",
       "<td>11</td>\n",
       "<td>160</td>\n",
       "</tr>\n",
       "<tr>\n",
       "<td>8</td>\n",
       "<td>Sato</td>\n",
       "<td>1</td>\n",
       "<td>14</td>\n",
       "<td>160</td>\n",
       "</tr>\n",
       "<tr>\n",
       "<td>9</td>\n",
       "<td>Nagata</td>\n",
       "<td>4</td>\n",
       "<td>11</td>\n",
       "<td>160</td>\n",
       "</tr>\n",
       "<tr>\n",
       "<td>10</td>\n",
       "<td>Sugino</td>\n",
       "<td>2</td>\n",
       "<td>13</td>\n",
       "<td>150</td>\n",
       "</tr>\n",
       "<tr>\n",
       "<td>11</td>\n",
       "<td>Takayama</td>\n",
       "<td>1</td>\n",
       "<td>14</td>\n",
       "<td>155</td>\n",
       "</tr>\n",
       "<tr>\n",
       "<td>12</td>\n",
       "<td>John</td>\n",
       "<td>3</td>\n",
       "<td>16</td>\n",
       "<td>165</td>\n",
       "</tr>\n",
       "</table>"
      ],
      "text/plain": [
       "+----+----------+-------+-----+--------+\n",
       "| id | name     | class | age | height |\n",
       "+----+----------+-------+-----+--------+\n",
       "| 1  | Yamada   | 1     | 14  | 150    |\n",
       "+----+----------+-------+-----+--------+\n",
       "| 2  | Tanaka   | 2     | 13  | 150    |\n",
       "+----+----------+-------+-----+--------+\n",
       "| 3  | Suzuki   | 1     | 13  | 150    |\n",
       "+----+----------+-------+-----+--------+\n",
       "| 4  | Kato     | 2     | 15  | 150    |\n",
       "+----+----------+-------+-----+--------+\n",
       "| 5  | Ito      | 3     | 12  | 155    |\n",
       "+----+----------+-------+-----+--------+\n",
       "| 6  | Takeuchi | 2     | 16  | 155    |\n",
       "+----+----------+-------+-----+--------+\n",
       "| 7  | Kimura   | 3     | 11  | 160    |\n",
       "+----+----------+-------+-----+--------+\n",
       "| 8  | Sato     | 1     | 14  | 160    |\n",
       "+----+----------+-------+-----+--------+\n",
       "| 9  | Nagata   | 4     | 11  | 160    |\n",
       "+----+----------+-------+-----+--------+\n",
       "| 10 | Sugino   | 2     | 13  | 150    |\n",
       "+----+----------+-------+-----+--------+\n",
       "| 11 | Takayama | 1     | 14  | 155    |\n",
       "+----+----------+-------+-----+--------+\n",
       "| 12 | John     | 3     | 16  | 165    |\n",
       "+----+----------+-------+-----+--------+"
      ]
     },
     "execution_count": 73,
     "metadata": {},
     "output_type": "execute_result"
    }
   ],
   "source": [
    "select * from  meibo\n",
    "union\n",
    "select * from  meibo2;"
   ]
  },
  {
   "cell_type": "code",
   "execution_count": 74,
   "metadata": {},
   "outputs": [
    {
     "data": {
      "text/html": [
       "<table>\n",
       "<tr>\n",
       "<th>id</th>\n",
       "<th>name</th>\n",
       "<th>class</th>\n",
       "<th>age</th>\n",
       "<th>height</th>\n",
       "</tr>\n",
       "<tr>\n",
       "<td>1</td>\n",
       "<td>Yamada</td>\n",
       "<td>1</td>\n",
       "<td>14</td>\n",
       "<td>150</td>\n",
       "</tr>\n",
       "<tr>\n",
       "<td>2</td>\n",
       "<td>Tanaka</td>\n",
       "<td>2</td>\n",
       "<td>13</td>\n",
       "<td>150</td>\n",
       "</tr>\n",
       "<tr>\n",
       "<td>3</td>\n",
       "<td>Suzuki</td>\n",
       "<td>1</td>\n",
       "<td>13</td>\n",
       "<td>150</td>\n",
       "</tr>\n",
       "<tr>\n",
       "<td>4</td>\n",
       "<td>Kato</td>\n",
       "<td>2</td>\n",
       "<td>15</td>\n",
       "<td>150</td>\n",
       "</tr>\n",
       "<tr>\n",
       "<td>5</td>\n",
       "<td>Ito</td>\n",
       "<td>3</td>\n",
       "<td>12</td>\n",
       "<td>155</td>\n",
       "</tr>\n",
       "<tr>\n",
       "<td>6</td>\n",
       "<td>Takeuchi</td>\n",
       "<td>2</td>\n",
       "<td>16</td>\n",
       "<td>155</td>\n",
       "</tr>\n",
       "<tr>\n",
       "<td>7</td>\n",
       "<td>Kimura</td>\n",
       "<td>3</td>\n",
       "<td>11</td>\n",
       "<td>160</td>\n",
       "</tr>\n",
       "<tr>\n",
       "<td>8</td>\n",
       "<td>Sato</td>\n",
       "<td>1</td>\n",
       "<td>14</td>\n",
       "<td>160</td>\n",
       "</tr>\n",
       "<tr>\n",
       "<td>1</td>\n",
       "<td>Yamada</td>\n",
       "<td>1</td>\n",
       "<td>14</td>\n",
       "<td>150</td>\n",
       "</tr>\n",
       "<tr>\n",
       "<td>9</td>\n",
       "<td>Nagata</td>\n",
       "<td>4</td>\n",
       "<td>11</td>\n",
       "<td>160</td>\n",
       "</tr>\n",
       "<tr>\n",
       "<td>10</td>\n",
       "<td>Sugino</td>\n",
       "<td>2</td>\n",
       "<td>13</td>\n",
       "<td>150</td>\n",
       "</tr>\n",
       "<tr>\n",
       "<td>11</td>\n",
       "<td>Takayama</td>\n",
       "<td>1</td>\n",
       "<td>14</td>\n",
       "<td>155</td>\n",
       "</tr>\n",
       "<tr>\n",
       "<td>12</td>\n",
       "<td>John</td>\n",
       "<td>3</td>\n",
       "<td>16</td>\n",
       "<td>165</td>\n",
       "</tr>\n",
       "</table>"
      ],
      "text/plain": [
       "+----+----------+-------+-----+--------+\n",
       "| id | name     | class | age | height |\n",
       "+----+----------+-------+-----+--------+\n",
       "| 1  | Yamada   | 1     | 14  | 150    |\n",
       "+----+----------+-------+-----+--------+\n",
       "| 2  | Tanaka   | 2     | 13  | 150    |\n",
       "+----+----------+-------+-----+--------+\n",
       "| 3  | Suzuki   | 1     | 13  | 150    |\n",
       "+----+----------+-------+-----+--------+\n",
       "| 4  | Kato     | 2     | 15  | 150    |\n",
       "+----+----------+-------+-----+--------+\n",
       "| 5  | Ito      | 3     | 12  | 155    |\n",
       "+----+----------+-------+-----+--------+\n",
       "| 6  | Takeuchi | 2     | 16  | 155    |\n",
       "+----+----------+-------+-----+--------+\n",
       "| 7  | Kimura   | 3     | 11  | 160    |\n",
       "+----+----------+-------+-----+--------+\n",
       "| 8  | Sato     | 1     | 14  | 160    |\n",
       "+----+----------+-------+-----+--------+\n",
       "| 1  | Yamada   | 1     | 14  | 150    |\n",
       "+----+----------+-------+-----+--------+\n",
       "| 9  | Nagata   | 4     | 11  | 160    |\n",
       "+----+----------+-------+-----+--------+\n",
       "| 10 | Sugino   | 2     | 13  | 150    |\n",
       "+----+----------+-------+-----+--------+\n",
       "| 11 | Takayama | 1     | 14  | 155    |\n",
       "+----+----------+-------+-----+--------+\n",
       "| 12 | John     | 3     | 16  | 165    |\n",
       "+----+----------+-------+-----+--------+"
      ]
     },
     "execution_count": 74,
     "metadata": {},
     "output_type": "execute_result"
    }
   ],
   "source": [
    "select * from  meibo\n",
    "union all\n",
    "select * from  meibo2;"
   ]
  },
  {
   "cell_type": "code",
   "execution_count": 75,
   "metadata": {},
   "outputs": [],
   "source": [
    "create table score\n",
    "  (id int primary key, math int, english int,science int)"
   ]
  },
  {
   "cell_type": "code",
   "execution_count": 76,
   "metadata": {},
   "outputs": [],
   "source": [
    "insert into score (id,math,english,science) \n",
    " values (1,10,10,40),(2,NULL,60,100),(3,30,40,60),\n",
    "        (5,25,31,10),(6,50,30,10),(8,90,100,90),\n",
    "        (9,67,71,50),(11,100,40,88),(15,76,21,13);"
   ]
  },
  {
   "cell_type": "code",
   "execution_count": 77,
   "metadata": {
    "scrolled": true
   },
   "outputs": [
    {
     "data": {
      "text/html": [
       "<table>\n",
       "<tr>\n",
       "<th>id</th>\n",
       "<th>math</th>\n",
       "<th>english</th>\n",
       "<th>science</th>\n",
       "</tr>\n",
       "<tr>\n",
       "<td>1</td>\n",
       "<td>10</td>\n",
       "<td>10</td>\n",
       "<td>40</td>\n",
       "</tr>\n",
       "<tr>\n",
       "<td>2</td>\n",
       "<td></td>\n",
       "<td>60</td>\n",
       "<td>100</td>\n",
       "</tr>\n",
       "<tr>\n",
       "<td>3</td>\n",
       "<td>30</td>\n",
       "<td>40</td>\n",
       "<td>60</td>\n",
       "</tr>\n",
       "<tr>\n",
       "<td>5</td>\n",
       "<td>25</td>\n",
       "<td>31</td>\n",
       "<td>10</td>\n",
       "</tr>\n",
       "<tr>\n",
       "<td>6</td>\n",
       "<td>50</td>\n",
       "<td>30</td>\n",
       "<td>10</td>\n",
       "</tr>\n",
       "<tr>\n",
       "<td>8</td>\n",
       "<td>90</td>\n",
       "<td>100</td>\n",
       "<td>90</td>\n",
       "</tr>\n",
       "<tr>\n",
       "<td>9</td>\n",
       "<td>67</td>\n",
       "<td>71</td>\n",
       "<td>50</td>\n",
       "</tr>\n",
       "<tr>\n",
       "<td>11</td>\n",
       "<td>100</td>\n",
       "<td>40</td>\n",
       "<td>88</td>\n",
       "</tr>\n",
       "<tr>\n",
       "<td>15</td>\n",
       "<td>76</td>\n",
       "<td>21</td>\n",
       "<td>13</td>\n",
       "</tr>\n",
       "</table>"
      ],
      "text/plain": [
       "+----+------+---------+---------+\n",
       "| id | math | english | science |\n",
       "+----+------+---------+---------+\n",
       "| 1  | 10   | 10      | 40      |\n",
       "+----+------+---------+---------+\n",
       "| 2  |      | 60      | 100     |\n",
       "+----+------+---------+---------+\n",
       "| 3  | 30   | 40      | 60      |\n",
       "+----+------+---------+---------+\n",
       "| 5  | 25   | 31      | 10      |\n",
       "+----+------+---------+---------+\n",
       "| 6  | 50   | 30      | 10      |\n",
       "+----+------+---------+---------+\n",
       "| 8  | 90   | 100     | 90      |\n",
       "+----+------+---------+---------+\n",
       "| 9  | 67   | 71      | 50      |\n",
       "+----+------+---------+---------+\n",
       "| 11 | 100  | 40      | 88      |\n",
       "+----+------+---------+---------+\n",
       "| 15 | 76   | 21      | 13      |\n",
       "+----+------+---------+---------+"
      ]
     },
     "execution_count": 77,
     "metadata": {},
     "output_type": "execute_result"
    }
   ],
   "source": [
    "select * from score;"
   ]
  },
  {
   "cell_type": "code",
   "execution_count": 78,
   "metadata": {},
   "outputs": [
    {
     "data": {
      "text/html": [
       "<table>\n",
       "<tr>\n",
       "<th>id</th>\n",
       "<th>name</th>\n",
       "<th>class</th>\n",
       "<th>age</th>\n",
       "<th>height</th>\n",
       "<th>id</th>\n",
       "<th>math</th>\n",
       "<th>english</th>\n",
       "<th>science</th>\n",
       "</tr>\n",
       "<tr>\n",
       "<td>1</td>\n",
       "<td>Yamada</td>\n",
       "<td>1</td>\n",
       "<td>14</td>\n",
       "<td>150</td>\n",
       "<td>1</td>\n",
       "<td>10</td>\n",
       "<td>10</td>\n",
       "<td>40</td>\n",
       "</tr>\n",
       "<tr>\n",
       "<td>2</td>\n",
       "<td>Tanaka</td>\n",
       "<td>2</td>\n",
       "<td>13</td>\n",
       "<td>150</td>\n",
       "<td>2</td>\n",
       "<td></td>\n",
       "<td>60</td>\n",
       "<td>100</td>\n",
       "</tr>\n",
       "<tr>\n",
       "<td>3</td>\n",
       "<td>Suzuki</td>\n",
       "<td>1</td>\n",
       "<td>13</td>\n",
       "<td>150</td>\n",
       "<td>3</td>\n",
       "<td>30</td>\n",
       "<td>40</td>\n",
       "<td>60</td>\n",
       "</tr>\n",
       "<tr>\n",
       "<td>5</td>\n",
       "<td>Ito</td>\n",
       "<td>3</td>\n",
       "<td>12</td>\n",
       "<td>155</td>\n",
       "<td>5</td>\n",
       "<td>25</td>\n",
       "<td>31</td>\n",
       "<td>10</td>\n",
       "</tr>\n",
       "<tr>\n",
       "<td>6</td>\n",
       "<td>Takeuchi</td>\n",
       "<td>2</td>\n",
       "<td>16</td>\n",
       "<td>155</td>\n",
       "<td>6</td>\n",
       "<td>50</td>\n",
       "<td>30</td>\n",
       "<td>10</td>\n",
       "</tr>\n",
       "<tr>\n",
       "<td>8</td>\n",
       "<td>Sato</td>\n",
       "<td>1</td>\n",
       "<td>14</td>\n",
       "<td>160</td>\n",
       "<td>8</td>\n",
       "<td>90</td>\n",
       "<td>100</td>\n",
       "<td>90</td>\n",
       "</tr>\n",
       "</table>"
      ],
      "text/plain": [
       "+----+----------+-------+-----+--------+----+------+---------+---------+\n",
       "| id | name     | class | age | height | id | math | english | science |\n",
       "+----+----------+-------+-----+--------+----+------+---------+---------+\n",
       "| 1  | Yamada   | 1     | 14  | 150    | 1  | 10   | 10      | 40      |\n",
       "+----+----------+-------+-----+--------+----+------+---------+---------+\n",
       "| 2  | Tanaka   | 2     | 13  | 150    | 2  |      | 60      | 100     |\n",
       "+----+----------+-------+-----+--------+----+------+---------+---------+\n",
       "| 3  | Suzuki   | 1     | 13  | 150    | 3  | 30   | 40      | 60      |\n",
       "+----+----------+-------+-----+--------+----+------+---------+---------+\n",
       "| 5  | Ito      | 3     | 12  | 155    | 5  | 25   | 31      | 10      |\n",
       "+----+----------+-------+-----+--------+----+------+---------+---------+\n",
       "| 6  | Takeuchi | 2     | 16  | 155    | 6  | 50   | 30      | 10      |\n",
       "+----+----------+-------+-----+--------+----+------+---------+---------+\n",
       "| 8  | Sato     | 1     | 14  | 160    | 8  | 90   | 100     | 90      |\n",
       "+----+----------+-------+-----+--------+----+------+---------+---------+"
      ]
     },
     "execution_count": 78,
     "metadata": {},
     "output_type": "execute_result"
    }
   ],
   "source": [
    "select * from meibo a join score b on a.id=b.id;"
   ]
  },
  {
   "cell_type": "code",
   "execution_count": 79,
   "metadata": {},
   "outputs": [
    {
     "data": {
      "text/html": [
       "<table>\n",
       "<tr>\n",
       "<th>id</th>\n",
       "<th>name</th>\n",
       "<th>class</th>\n",
       "<th>age</th>\n",
       "<th>height</th>\n",
       "<th>id</th>\n",
       "<th>math</th>\n",
       "<th>english</th>\n",
       "<th>science</th>\n",
       "</tr>\n",
       "<tr>\n",
       "<td>1</td>\n",
       "<td>Yamada</td>\n",
       "<td>1</td>\n",
       "<td>14</td>\n",
       "<td>150</td>\n",
       "<td>1</td>\n",
       "<td>10</td>\n",
       "<td>10</td>\n",
       "<td>40</td>\n",
       "</tr>\n",
       "<tr>\n",
       "<td>2</td>\n",
       "<td>Tanaka</td>\n",
       "<td>2</td>\n",
       "<td>13</td>\n",
       "<td>150</td>\n",
       "<td>2</td>\n",
       "<td></td>\n",
       "<td>60</td>\n",
       "<td>100</td>\n",
       "</tr>\n",
       "<tr>\n",
       "<td>3</td>\n",
       "<td>Suzuki</td>\n",
       "<td>1</td>\n",
       "<td>13</td>\n",
       "<td>150</td>\n",
       "<td>3</td>\n",
       "<td>30</td>\n",
       "<td>40</td>\n",
       "<td>60</td>\n",
       "</tr>\n",
       "<tr>\n",
       "<td>4</td>\n",
       "<td>Kato</td>\n",
       "<td>2</td>\n",
       "<td>15</td>\n",
       "<td>150</td>\n",
       "<td></td>\n",
       "<td></td>\n",
       "<td></td>\n",
       "<td></td>\n",
       "</tr>\n",
       "<tr>\n",
       "<td>5</td>\n",
       "<td>Ito</td>\n",
       "<td>3</td>\n",
       "<td>12</td>\n",
       "<td>155</td>\n",
       "<td>5</td>\n",
       "<td>25</td>\n",
       "<td>31</td>\n",
       "<td>10</td>\n",
       "</tr>\n",
       "<tr>\n",
       "<td>6</td>\n",
       "<td>Takeuchi</td>\n",
       "<td>2</td>\n",
       "<td>16</td>\n",
       "<td>155</td>\n",
       "<td>6</td>\n",
       "<td>50</td>\n",
       "<td>30</td>\n",
       "<td>10</td>\n",
       "</tr>\n",
       "<tr>\n",
       "<td>7</td>\n",
       "<td>Kimura</td>\n",
       "<td>3</td>\n",
       "<td>11</td>\n",
       "<td>160</td>\n",
       "<td></td>\n",
       "<td></td>\n",
       "<td></td>\n",
       "<td></td>\n",
       "</tr>\n",
       "<tr>\n",
       "<td>8</td>\n",
       "<td>Sato</td>\n",
       "<td>1</td>\n",
       "<td>14</td>\n",
       "<td>160</td>\n",
       "<td>8</td>\n",
       "<td>90</td>\n",
       "<td>100</td>\n",
       "<td>90</td>\n",
       "</tr>\n",
       "</table>"
      ],
      "text/plain": [
       "+----+----------+-------+-----+--------+----+------+---------+---------+\n",
       "| id | name     | class | age | height | id | math | english | science |\n",
       "+----+----------+-------+-----+--------+----+------+---------+---------+\n",
       "| 1  | Yamada   | 1     | 14  | 150    | 1  | 10   | 10      | 40      |\n",
       "+----+----------+-------+-----+--------+----+------+---------+---------+\n",
       "| 2  | Tanaka   | 2     | 13  | 150    | 2  |      | 60      | 100     |\n",
       "+----+----------+-------+-----+--------+----+------+---------+---------+\n",
       "| 3  | Suzuki   | 1     | 13  | 150    | 3  | 30   | 40      | 60      |\n",
       "+----+----------+-------+-----+--------+----+------+---------+---------+\n",
       "| 4  | Kato     | 2     | 15  | 150    |    |      |         |         |\n",
       "+----+----------+-------+-----+--------+----+------+---------+---------+\n",
       "| 5  | Ito      | 3     | 12  | 155    | 5  | 25   | 31      | 10      |\n",
       "+----+----------+-------+-----+--------+----+------+---------+---------+\n",
       "| 6  | Takeuchi | 2     | 16  | 155    | 6  | 50   | 30      | 10      |\n",
       "+----+----------+-------+-----+--------+----+------+---------+---------+\n",
       "| 7  | Kimura   | 3     | 11  | 160    |    |      |         |         |\n",
       "+----+----------+-------+-----+--------+----+------+---------+---------+\n",
       "| 8  | Sato     | 1     | 14  | 160    | 8  | 90   | 100     | 90      |\n",
       "+----+----------+-------+-----+--------+----+------+---------+---------+"
      ]
     },
     "execution_count": 79,
     "metadata": {},
     "output_type": "execute_result"
    }
   ],
   "source": [
    "select * from meibo a left join score b on a.id=b.id;"
   ]
  },
  {
   "cell_type": "code",
   "execution_count": 80,
   "metadata": {},
   "outputs": [
    {
     "data": {
      "text/html": [
       "<table>\n",
       "<tr>\n",
       "<th>id</th>\n",
       "<th>name</th>\n",
       "<th>class</th>\n",
       "<th>age</th>\n",
       "<th>height</th>\n",
       "<th>id</th>\n",
       "<th>name</th>\n",
       "<th>class</th>\n",
       "<th>age</th>\n",
       "<th>height</th>\n",
       "</tr>\n",
       "<tr>\n",
       "<td>1</td>\n",
       "<td>Yamada</td>\n",
       "<td>1</td>\n",
       "<td>14</td>\n",
       "<td>150</td>\n",
       "<td>1</td>\n",
       "<td>Yamada</td>\n",
       "<td>1</td>\n",
       "<td>14</td>\n",
       "<td>150</td>\n",
       "</tr>\n",
       "<tr>\n",
       "<td>2</td>\n",
       "<td>Tanaka</td>\n",
       "<td>2</td>\n",
       "<td>13</td>\n",
       "<td>150</td>\n",
       "<td>2</td>\n",
       "<td>Tanaka</td>\n",
       "<td>2</td>\n",
       "<td>13</td>\n",
       "<td>150</td>\n",
       "</tr>\n",
       "<tr>\n",
       "<td>3</td>\n",
       "<td>Suzuki</td>\n",
       "<td>1</td>\n",
       "<td>13</td>\n",
       "<td>150</td>\n",
       "<td>3</td>\n",
       "<td>Suzuki</td>\n",
       "<td>1</td>\n",
       "<td>13</td>\n",
       "<td>150</td>\n",
       "</tr>\n",
       "<tr>\n",
       "<td>4</td>\n",
       "<td>Kato</td>\n",
       "<td>2</td>\n",
       "<td>15</td>\n",
       "<td>150</td>\n",
       "<td>4</td>\n",
       "<td>Kato</td>\n",
       "<td>2</td>\n",
       "<td>15</td>\n",
       "<td>150</td>\n",
       "</tr>\n",
       "<tr>\n",
       "<td>5</td>\n",
       "<td>Ito</td>\n",
       "<td>3</td>\n",
       "<td>12</td>\n",
       "<td>155</td>\n",
       "<td>5</td>\n",
       "<td>Ito</td>\n",
       "<td>3</td>\n",
       "<td>12</td>\n",
       "<td>155</td>\n",
       "</tr>\n",
       "<tr>\n",
       "<td>6</td>\n",
       "<td>Takeuchi</td>\n",
       "<td>2</td>\n",
       "<td>16</td>\n",
       "<td>155</td>\n",
       "<td>6</td>\n",
       "<td>Takeuchi</td>\n",
       "<td>2</td>\n",
       "<td>16</td>\n",
       "<td>155</td>\n",
       "</tr>\n",
       "<tr>\n",
       "<td>7</td>\n",
       "<td>Kimura</td>\n",
       "<td>3</td>\n",
       "<td>11</td>\n",
       "<td>160</td>\n",
       "<td>7</td>\n",
       "<td>Kimura</td>\n",
       "<td>3</td>\n",
       "<td>11</td>\n",
       "<td>160</td>\n",
       "</tr>\n",
       "<tr>\n",
       "<td>8</td>\n",
       "<td>Sato</td>\n",
       "<td>1</td>\n",
       "<td>14</td>\n",
       "<td>160</td>\n",
       "<td>8</td>\n",
       "<td>Sato</td>\n",
       "<td>1</td>\n",
       "<td>14</td>\n",
       "<td>160</td>\n",
       "</tr>\n",
       "</table>"
      ],
      "text/plain": [
       "+----+----------+-------+-----+--------+----+----------+-------+-----+--------+\n",
       "| id | name     | class | age | height | id | name     | class | age | height |\n",
       "+----+----------+-------+-----+--------+----+----------+-------+-----+--------+\n",
       "| 1  | Yamada   | 1     | 14  | 150    | 1  | Yamada   | 1     | 14  | 150    |\n",
       "+----+----------+-------+-----+--------+----+----------+-------+-----+--------+\n",
       "| 2  | Tanaka   | 2     | 13  | 150    | 2  | Tanaka   | 2     | 13  | 150    |\n",
       "+----+----------+-------+-----+--------+----+----------+-------+-----+--------+\n",
       "| 3  | Suzuki   | 1     | 13  | 150    | 3  | Suzuki   | 1     | 13  | 150    |\n",
       "+----+----------+-------+-----+--------+----+----------+-------+-----+--------+\n",
       "| 4  | Kato     | 2     | 15  | 150    | 4  | Kato     | 2     | 15  | 150    |\n",
       "+----+----------+-------+-----+--------+----+----------+-------+-----+--------+\n",
       "| 5  | Ito      | 3     | 12  | 155    | 5  | Ito      | 3     | 12  | 155    |\n",
       "+----+----------+-------+-----+--------+----+----------+-------+-----+--------+\n",
       "| 6  | Takeuchi | 2     | 16  | 155    | 6  | Takeuchi | 2     | 16  | 155    |\n",
       "+----+----------+-------+-----+--------+----+----------+-------+-----+--------+\n",
       "| 7  | Kimura   | 3     | 11  | 160    | 7  | Kimura   | 3     | 11  | 160    |\n",
       "+----+----------+-------+-----+--------+----+----------+-------+-----+--------+\n",
       "| 8  | Sato     | 1     | 14  | 160    | 8  | Sato     | 1     | 14  | 160    |\n",
       "+----+----------+-------+-----+--------+----+----------+-------+-----+--------+"
      ]
     },
     "execution_count": 80,
     "metadata": {},
     "output_type": "execute_result"
    }
   ],
   "source": [
    "select * from meibo a join meibo b on a.id=b.id;"
   ]
  },
  {
   "cell_type": "code",
   "execution_count": 86,
   "metadata": {},
   "outputs": [
    {
     "data": {
      "text/html": [
       "<table>\n",
       "<tr>\n",
       "<th>id</th>\n",
       "<th>name</th>\n",
       "<th>className</th>\n",
       "</tr>\n",
       "<tr>\n",
       "<td>1</td>\n",
       "<td>Yamada</td>\n",
       "<td>A</td>\n",
       "</tr>\n",
       "<tr>\n",
       "<td>2</td>\n",
       "<td>Tanaka</td>\n",
       "<td>B</td>\n",
       "</tr>\n",
       "<tr>\n",
       "<td>3</td>\n",
       "<td>Suzuki</td>\n",
       "<td>A</td>\n",
       "</tr>\n",
       "<tr>\n",
       "<td>4</td>\n",
       "<td>Kato</td>\n",
       "<td>B</td>\n",
       "</tr>\n",
       "<tr>\n",
       "<td>5</td>\n",
       "<td>Ito</td>\n",
       "<td>C</td>\n",
       "</tr>\n",
       "<tr>\n",
       "<td>6</td>\n",
       "<td>Takeuchi</td>\n",
       "<td>B</td>\n",
       "</tr>\n",
       "<tr>\n",
       "<td>7</td>\n",
       "<td>Kimura</td>\n",
       "<td>C</td>\n",
       "</tr>\n",
       "<tr>\n",
       "<td>8</td>\n",
       "<td>Sato</td>\n",
       "<td>A</td>\n",
       "</tr>\n",
       "</table>"
      ],
      "text/plain": [
       "+----+----------+-----------+\n",
       "| id | name     | className |\n",
       "+----+----------+-----------+\n",
       "| 1  | Yamada   | A         |\n",
       "+----+----------+-----------+\n",
       "| 2  | Tanaka   | B         |\n",
       "+----+----------+-----------+\n",
       "| 3  | Suzuki   | A         |\n",
       "+----+----------+-----------+\n",
       "| 4  | Kato     | B         |\n",
       "+----+----------+-----------+\n",
       "| 5  | Ito      | C         |\n",
       "+----+----------+-----------+\n",
       "| 6  | Takeuchi | B         |\n",
       "+----+----------+-----------+\n",
       "| 7  | Kimura   | C         |\n",
       "+----+----------+-----------+\n",
       "| 8  | Sato     | A         |\n",
       "+----+----------+-----------+"
      ]
     },
     "execution_count": 86,
     "metadata": {},
     "output_type": "execute_result"
    }
   ],
   "source": [
    "select \n",
    "     id, name\n",
    "    ,case \n",
    "        when class = 1 then \"A\"\n",
    "        when class = 2 then \"B\"\n",
    "        when class = 3 then \"C\"\n",
    "        else \"others\" \n",
    "    end as className\n",
    "from \n",
    "    meibo;"
   ]
  },
  {
   "cell_type": "code",
   "execution_count": 87,
   "metadata": {},
   "outputs": [
    {
     "data": {
      "text/html": [
       "<table>\n",
       "<tr>\n",
       "<th>name</th>\n",
       "<th>age</th>\n",
       "</tr>\n",
       "<tr>\n",
       "<td>Yamada</td>\n",
       "<td>14</td>\n",
       "</tr>\n",
       "<tr>\n",
       "<td>Suzuki</td>\n",
       "<td>13</td>\n",
       "</tr>\n",
       "<tr>\n",
       "<td>Sato</td>\n",
       "<td>14</td>\n",
       "</tr>\n",
       "</table>"
      ],
      "text/plain": [
       "+--------+-----+\n",
       "| name   | age |\n",
       "+--------+-----+\n",
       "| Yamada | 14  |\n",
       "+--------+-----+\n",
       "| Suzuki | 13  |\n",
       "+--------+-----+\n",
       "| Sato   | 14  |\n",
       "+--------+-----+"
      ]
     },
     "execution_count": 87,
     "metadata": {},
     "output_type": "execute_result"
    }
   ],
   "source": [
    "select b.name,b.age from \n",
    " (select a.age,a.name from meibo a where a.class = 1) b;"
   ]
  },
  {
   "cell_type": "code",
   "execution_count": 88,
   "metadata": {},
   "outputs": [
    {
     "data": {
      "text/html": [
       "<table>\n",
       "<tr>\n",
       "<th>id</th>\n",
       "<th>name</th>\n",
       "<th>class</th>\n",
       "<th>age</th>\n",
       "<th>height</th>\n",
       "</tr>\n",
       "<tr>\n",
       "<td>1</td>\n",
       "<td>Yamada</td>\n",
       "<td>1</td>\n",
       "<td>14</td>\n",
       "<td>150</td>\n",
       "</tr>\n",
       "<tr>\n",
       "<td>3</td>\n",
       "<td>Suzuki</td>\n",
       "<td>1</td>\n",
       "<td>13</td>\n",
       "<td>150</td>\n",
       "</tr>\n",
       "<tr>\n",
       "<td>8</td>\n",
       "<td>Sato</td>\n",
       "<td>1</td>\n",
       "<td>14</td>\n",
       "<td>160</td>\n",
       "</tr>\n",
       "</table>"
      ],
      "text/plain": [
       "+----+--------+-------+-----+--------+\n",
       "| id | name   | class | age | height |\n",
       "+----+--------+-------+-----+--------+\n",
       "| 1  | Yamada | 1     | 14  | 150    |\n",
       "+----+--------+-------+-----+--------+\n",
       "| 3  | Suzuki | 1     | 13  | 150    |\n",
       "+----+--------+-------+-----+--------+\n",
       "| 8  | Sato   | 1     | 14  | 160    |\n",
       "+----+--------+-------+-----+--------+"
      ]
     },
     "execution_count": 88,
     "metadata": {},
     "output_type": "execute_result"
    }
   ],
   "source": [
    "select b.* from \n",
    " (select a.* from meibo a where a.class = 1) b;"
   ]
  },
  {
   "cell_type": "code",
   "execution_count": 92,
   "metadata": {},
   "outputs": [],
   "source": [
    "create view v1\n",
    "    as\n",
    "select id,name\n",
    "    from meibo;"
   ]
  },
  {
   "cell_type": "code",
   "execution_count": 93,
   "metadata": {},
   "outputs": [
    {
     "data": {
      "text/html": [
       "<table>\n",
       "<tr>\n",
       "<th>id</th>\n",
       "<th>name</th>\n",
       "</tr>\n",
       "<tr>\n",
       "<td>1</td>\n",
       "<td>Yamada</td>\n",
       "</tr>\n",
       "<tr>\n",
       "<td>2</td>\n",
       "<td>Tanaka</td>\n",
       "</tr>\n",
       "<tr>\n",
       "<td>3</td>\n",
       "<td>Suzuki</td>\n",
       "</tr>\n",
       "<tr>\n",
       "<td>4</td>\n",
       "<td>Kato</td>\n",
       "</tr>\n",
       "<tr>\n",
       "<td>5</td>\n",
       "<td>Ito</td>\n",
       "</tr>\n",
       "<tr>\n",
       "<td>6</td>\n",
       "<td>Takeuchi</td>\n",
       "</tr>\n",
       "<tr>\n",
       "<td>7</td>\n",
       "<td>Kimura</td>\n",
       "</tr>\n",
       "<tr>\n",
       "<td>8</td>\n",
       "<td>Sato</td>\n",
       "</tr>\n",
       "</table>"
      ],
      "text/plain": [
       "+----+----------+\n",
       "| id | name     |\n",
       "+----+----------+\n",
       "| 1  | Yamada   |\n",
       "+----+----------+\n",
       "| 2  | Tanaka   |\n",
       "+----+----------+\n",
       "| 3  | Suzuki   |\n",
       "+----+----------+\n",
       "| 4  | Kato     |\n",
       "+----+----------+\n",
       "| 5  | Ito      |\n",
       "+----+----------+\n",
       "| 6  | Takeuchi |\n",
       "+----+----------+\n",
       "| 7  | Kimura   |\n",
       "+----+----------+\n",
       "| 8  | Sato     |\n",
       "+----+----------+"
      ]
     },
     "execution_count": 93,
     "metadata": {},
     "output_type": "execute_result"
    }
   ],
   "source": [
    "select * from v1;"
   ]
  },
  {
   "cell_type": "code",
   "execution_count": 94,
   "metadata": {},
   "outputs": [],
   "source": [
    "create view v2\n",
    "    as\n",
    "select \n",
    "     id\n",
    "    ,name\n",
    "    ,case \n",
    "        when class = 1 then \"A\"\n",
    "        when class = 2 then \"B\"\n",
    "        when class = 3 then \"C\"\n",
    "        else \"others\" \n",
    "    end as className\n",
    "from \n",
    "    meibo;"
   ]
  },
  {
   "cell_type": "code",
   "execution_count": 95,
   "metadata": {},
   "outputs": [
    {
     "data": {
      "text/html": [
       "<table>\n",
       "<tr>\n",
       "<th>id</th>\n",
       "<th>name</th>\n",
       "<th>className</th>\n",
       "</tr>\n",
       "<tr>\n",
       "<td>1</td>\n",
       "<td>Yamada</td>\n",
       "<td>A</td>\n",
       "</tr>\n",
       "<tr>\n",
       "<td>2</td>\n",
       "<td>Tanaka</td>\n",
       "<td>B</td>\n",
       "</tr>\n",
       "<tr>\n",
       "<td>3</td>\n",
       "<td>Suzuki</td>\n",
       "<td>A</td>\n",
       "</tr>\n",
       "<tr>\n",
       "<td>4</td>\n",
       "<td>Kato</td>\n",
       "<td>B</td>\n",
       "</tr>\n",
       "<tr>\n",
       "<td>5</td>\n",
       "<td>Ito</td>\n",
       "<td>C</td>\n",
       "</tr>\n",
       "<tr>\n",
       "<td>6</td>\n",
       "<td>Takeuchi</td>\n",
       "<td>B</td>\n",
       "</tr>\n",
       "<tr>\n",
       "<td>7</td>\n",
       "<td>Kimura</td>\n",
       "<td>C</td>\n",
       "</tr>\n",
       "<tr>\n",
       "<td>8</td>\n",
       "<td>Sato</td>\n",
       "<td>A</td>\n",
       "</tr>\n",
       "</table>"
      ],
      "text/plain": [
       "+----+----------+-----------+\n",
       "| id | name     | className |\n",
       "+----+----------+-----------+\n",
       "| 1  | Yamada   | A         |\n",
       "+----+----------+-----------+\n",
       "| 2  | Tanaka   | B         |\n",
       "+----+----------+-----------+\n",
       "| 3  | Suzuki   | A         |\n",
       "+----+----------+-----------+\n",
       "| 4  | Kato     | B         |\n",
       "+----+----------+-----------+\n",
       "| 5  | Ito      | C         |\n",
       "+----+----------+-----------+\n",
       "| 6  | Takeuchi | B         |\n",
       "+----+----------+-----------+\n",
       "| 7  | Kimura   | C         |\n",
       "+----+----------+-----------+\n",
       "| 8  | Sato     | A         |\n",
       "+----+----------+-----------+"
      ]
     },
     "execution_count": 95,
     "metadata": {},
     "output_type": "execute_result"
    }
   ],
   "source": [
    "select * from v2;"
   ]
  },
  {
   "cell_type": "code",
   "execution_count": 96,
   "metadata": {},
   "outputs": [
    {
     "ename": "Error",
     "evalue": "cannot modify v1 because it is a view",
     "output_type": "error",
     "traceback": [
      "Error: cannot modify v1 because it is a view"
     ]
    }
   ],
   "source": [
    "insert into v1 (id, name) values (100, \"dummy_Yamada\");"
   ]
  },
  {
   "cell_type": "code",
   "execution_count": 97,
   "metadata": {},
   "outputs": [
    {
     "data": {
      "text/html": [
       "<table>\n",
       "<tr>\n",
       "<th>name</th>\n",
       "<th>sql</th>\n",
       "</tr>\n",
       "<tr>\n",
       "<td>v1</td>\n",
       "<td>CREATE VIEW v1\n",
       "    as\n",
       "select id,name\n",
       "    from meibo</td>\n",
       "</tr>\n",
       "<tr>\n",
       "<td>v2</td>\n",
       "<td>CREATE VIEW v2\n",
       "    as\n",
       "select \n",
       "     id\n",
       "    ,name\n",
       "    ,case \n",
       "        when class = 1 then \"A\"\n",
       "        when class = 2 then \"B\"\n",
       "        when class = 3 then \"C\"\n",
       "        else \"others\" \n",
       "    end as className\n",
       "from \n",
       "    meibo</td>\n",
       "</tr>\n",
       "</table>"
      ],
      "text/plain": [
       "+------+---------------------------------+\n",
       "| name | sql                             |\n",
       "+------+---------------------------------+\n",
       "| v1   | CREATE VIEW v1                  |\n",
       "|      | as                              |\n",
       "|      | select id,name                  |\n",
       "|      | from meibo                      |\n",
       "+------+---------------------------------+\n",
       "| v2   | CREATE VIEW v2                  |\n",
       "|      | as                              |\n",
       "|      | select                          |\n",
       "|      | id                              |\n",
       "|      | ,name                           |\n",
       "|      | ,case                           |\n",
       "|      | when class = 1 then \"A\"         |\n",
       "|      | when class = 2 then \"B\"         |\n",
       "|      | when class = 3 then \"C\"         |\n",
       "|      | else \"others\"                   |\n",
       "|      | end as className                |\n",
       "|      | from                            |\n",
       "|      | meibo                           |\n",
       "+------+---------------------------------+"
      ]
     },
     "execution_count": 97,
     "metadata": {},
     "output_type": "execute_result"
    }
   ],
   "source": [
    "select name, sql from sqlite_master where type = 'view';"
   ]
  }
 ],
 "metadata": {
  "anaconda-cloud": {},
  "kernelspec": {
   "display_name": "xsqlite",
   "language": "sqlite",
   "name": "xsqlite"
  },
  "language_info": {
   "codemirror_mode": "sql",
   "file_extension": "",
   "mimetype": "",
   "name": "sqlite3",
   "version": "3.30.1"
  }
 },
 "nbformat": 4,
 "nbformat_minor": 4
}
